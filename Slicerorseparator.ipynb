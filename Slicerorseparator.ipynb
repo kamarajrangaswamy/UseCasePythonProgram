{
  "nbformat": 4,
  "nbformat_minor": 0,
  "metadata": {
    "colab": {
      "provenance": []
    },
    "kernelspec": {
      "name": "python3",
      "display_name": "Python 3"
    },
    "language_info": {
      "name": "python"
    }
  },
  "cells": [
    {
      "cell_type": "markdown",
      "source": [
        "## How string manipulation in Python  Prepared By Kamaraj Rangaswamy"
      ],
      "metadata": {
        "id": "Lodfz8co-_u2"
      }
    },
    {
      "cell_type": "markdown",
      "source": [
        "# Email Slicer with Python\n",
        "\n",
        "An Email slicer is a very useful program to split/separate the username and domain name of an email address.\n",
        "\n",
        "To create an email slicer with Python, our task is to write a program that can retrieve the username and the domain name of the email.\n",
        "\n",
        "Need to divide the email into two parts using ‘@’ as the separator\n",
        "\n"
      ],
      "metadata": {
        "id": "IG9eICnx5g_D"
      }
    },
    {
      "cell_type": "code",
      "source": [
        "email = input(\"Enter Your Email: \").strip()\n",
        "username = email[:email.index(\"@\")]\n",
        "domain_name = email[email.index(\"@\")+1:]\n",
        "format_ = (f\"Your user name is '{username}' and your domain is '{domain_name}'\")\n",
        "print(format_)"
      ],
      "metadata": {
        "colab": {
          "base_uri": "https://localhost:8080/"
        },
        "id": "XQL9xOXN6ZOg",
        "outputId": "ea2f1797-e83f-481f-a234-d135bd0411d6"
      },
      "execution_count": 2,
      "outputs": [
        {
          "output_type": "stream",
          "name": "stdout",
          "text": [
            "Enter Your Email: helpdesk@newsportal.com\n",
            "Your user name is 'helpdesk' and your domain is 'newsportal.com'\n"
          ]
        }
      ]
    },
    {
      "cell_type": "markdown",
      "source": [
        "# Use Case: You want to separate the file name and extension from a given file path."
      ],
      "metadata": {
        "id": "30FiGCSa6hSV"
      }
    },
    {
      "cell_type": "code",
      "source": [
        "file = input(\"Enter file name with extension: \").strip()\n",
        "file_name = file[:file.rindex(\".\")]\n",
        "file_extension = file[file.rindex(\".\")+1:]\n",
        "format_ = f\"File name: '{file_name}', Extension: '{file_extension}'\"\n",
        "print(format_)\n"
      ],
      "metadata": {
        "colab": {
          "base_uri": "https://localhost:8080/"
        },
        "id": "LZ6Bh00n5i0X",
        "outputId": "8b6f7e09-907b-4500-b2b5-2a155a26ca37"
      },
      "execution_count": 1,
      "outputs": [
        {
          "output_type": "stream",
          "name": "stdout",
          "text": [
            "Enter file name with extension: helpdesk@newsportal.com\n",
            "File name: 'helpdesk@newsportal', Extension: 'com'\n"
          ]
        }
      ]
    },
    {
      "cell_type": "markdown",
      "source": [
        "## Use Case: Extract first and last names from a full name input."
      ],
      "metadata": {
        "id": "UPyTXmjn6s-L"
      }
    },
    {
      "cell_type": "code",
      "source": [
        "full_name = input(\"Enter your full name: \").strip()\n",
        "first_name = full_name[:full_name.index(\" \")]\n",
        "last_name = full_name[full_name.index(\" \")+1:]\n",
        "format_ = f\"First name: '{first_name}', Last name: '{last_name}'\"\n",
        "print(format_)\n"
      ],
      "metadata": {
        "colab": {
          "base_uri": "https://localhost:8080/"
        },
        "id": "aO9O8C0A6Mib",
        "outputId": "d98a8cc8-848e-4e1d-8572-49ed3dae1120"
      },
      "execution_count": 4,
      "outputs": [
        {
          "output_type": "stream",
          "name": "stdout",
          "text": [
            "Enter your full name: Kamaraj Rangaswamy\n",
            "First name: 'Kamaraj', Last name: 'Rangaswamy'\n"
          ]
        }
      ]
    },
    {
      "cell_type": "markdown",
      "source": [
        "## Use Case: You want to separate the day, month, and year from a date formatted as DD/MM/YYYY"
      ],
      "metadata": {
        "id": "2MC9hmed6-7l"
      }
    },
    {
      "cell_type": "code",
      "source": [
        "date = input(\"Enter date (DD/MM/YYYY): \").strip()\n",
        "day = date[:date.index(\"/\")]\n",
        "month = date[date.index(\"/\")+1:date.rindex(\"/\")]\n",
        "year = date[date.rindex(\"/\")+1:]\n",
        "format_ = f\"Day: '{day}', Month: '{month}', Year: '{year}'\"\n",
        "print(format_)\n"
      ],
      "metadata": {
        "colab": {
          "base_uri": "https://localhost:8080/"
        },
        "id": "6ybJGkX46u66",
        "outputId": "296d0cf0-d55a-4f09-ca64-08c6dc16df1f"
      },
      "execution_count": 5,
      "outputs": [
        {
          "output_type": "stream",
          "name": "stdout",
          "text": [
            "Enter date (DD/MM/YYYY): 13/10/1980\n",
            "Day: '13', Month: '10', Year: '1980'\n"
          ]
        }
      ]
    },
    {
      "cell_type": "markdown",
      "source": [
        "## Use Case: Parse a URL to extract its protocol, domain, and path."
      ],
      "metadata": {
        "id": "UukjN20p7KYD"
      }
    },
    {
      "cell_type": "code",
      "source": [
        "url = input(\"Enter a URL: \").strip()\n",
        "protocol = url[:url.index(\"://\")]\n",
        "domain = url[url.index(\"://\")+3:url.index(\"/\", url.index(\"://\") + 3)]\n",
        "path = url[url.index(\"/\", url.index(\"://\") + 3):]\n",
        "format_ = f\"Protocol: '{protocol}', Domain: '{domain}', Path: '{path}'\"\n",
        "print(format_)\n"
      ],
      "metadata": {
        "colab": {
          "base_uri": "https://localhost:8080/"
        },
        "id": "teDxVEFA7C0P",
        "outputId": "e5ae9a4f-ff06-4e03-e1f2-6d15204ac400"
      },
      "execution_count": 9,
      "outputs": [
        {
          "output_type": "stream",
          "name": "stdout",
          "text": [
            "Enter a URL: https://www.kaspersky.com/\n",
            "Protocol: 'https', Domain: 'www.kaspersky.com', Path: '/'\n"
          ]
        }
      ]
    },
    {
      "cell_type": "markdown",
      "source": [
        "## Use Case: Extract major, minor, and patch numbers from a version string formatted as MAJOR.MINOR.PATCH."
      ],
      "metadata": {
        "id": "625E59Fs-Ofx"
      }
    },
    {
      "cell_type": "code",
      "source": [
        "version = input(\"Enter version number (MAJOR.MINOR.PATCH): \").strip()\n",
        "major = version[:version.index(\".\")]\n",
        "minor = version[version.index(\".\")+1:version.rindex(\".\")]\n",
        "patch = version[version.rindex(\".\")+1:]\n",
        "format_ = f\"Major: '{major}', Minor: '{minor}', Patch: '{patch}'\"\n",
        "print(format_)\n"
      ],
      "metadata": {
        "colab": {
          "base_uri": "https://localhost:8080/"
        },
        "id": "7FnmWTJp7M3D",
        "outputId": "a73126c2-81ee-4f73-c29a-5f03116d2e93"
      },
      "execution_count": 10,
      "outputs": [
        {
          "output_type": "stream",
          "name": "stdout",
          "text": [
            "Enter version number (MAJOR.MINOR.PATCH): 5.6.8\n",
            "Major: '5', Minor: '6', Patch: '8'\n"
          ]
        }
      ]
    },
    {
      "cell_type": "code",
      "source": [],
      "metadata": {
        "id": "5x1HeLjD-aLH"
      },
      "execution_count": null,
      "outputs": []
    }
  ]
}