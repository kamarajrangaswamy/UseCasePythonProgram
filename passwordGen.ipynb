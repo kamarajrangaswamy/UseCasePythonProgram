{
  "nbformat": 4,
  "nbformat_minor": 0,
  "metadata": {
    "colab": {
      "provenance": []
    },
    "kernelspec": {
      "name": "python3",
      "display_name": "Python 3"
    },
    "language_info": {
      "name": "python"
    }
  },
  "cells": [
    {
      "cell_type": "markdown",
      "source": [
        "# How to Generate the password in Python  Prepared By Kamaraj Rangaswamy\n",
        "# Python Program to Generate Password\n",
        "Need to create a program that takes the length of the password and generates a random password of the same length"
      ],
      "metadata": {
        "id": "kmW8cSqSECRE"
      }
    },
    {
      "cell_type": "code",
      "execution_count": 4,
      "metadata": {
        "colab": {
          "base_uri": "https://localhost:8080/"
        },
        "id": "TJmEtLv0EBa3",
        "outputId": "09b77b23-3643-4af0-ac2b-cb1fb679f5ca"
      },
      "outputs": [
        {
          "output_type": "stream",
          "name": "stdout",
          "text": [
            "Enter the length of password12\n",
            "&1VKu#rz6L5D\n"
          ]
        }
      ],
      "source": [
        "import random\n",
        "\n",
        "# Get the password length from the user\n",
        "PLE = int(input(\"Enter the length of password\"))\n",
        "\n",
        "# Define the character set for password generation\n",
        "st = \"abcdefghijklmnopqrstuvwxyz01234567890ABCDEFGHIJKLMNOPQRSTUVWXYZ!@#$%^&*()?\"\n",
        "\n",
        "# Randomly sample characters to generate a password of the specified length\n",
        "PA = \"\".join(random.sample(st, PLE))\n",
        "\n",
        "# Print the generated password\n",
        "print(PA)"
      ]
    },
    {
      "cell_type": "markdown",
      "source": [
        "# Password Generator with Custom Policy Enforcement\n",
        "Here’s a variation that ensures the generated password contains at least one lowercase letter, one uppercase letter, one number, and one special character:"
      ],
      "metadata": {
        "id": "W1cQXrRVFbgR"
      }
    },
    {
      "cell_type": "code",
      "source": [
        "import random\n",
        "\n",
        "# Define different character sets for password components\n",
        "lowercase = \"abcdefghijklmnopqrstuvwxyz\"\n",
        "uppercase = \"ABCDEFGHIJKLMNOPQRSTUVWXYZ\"\n",
        "digits = \"0123456789\"\n",
        "special_chars = \"!@#$%^&*()?\"\n",
        "\n",
        "# Get the password length from the user\n",
        "PLE = int(input(\"Enter the length of password (minimum 6): \"))\n",
        "\n",
        "if PLE < 6:\n",
        "    print(\"Password should be at least 6 characters long!\")\n",
        "else:\n",
        "    # Ensure password has at least one character from each category\n",
        "    password = [\n",
        "        random.choice(lowercase),\n",
        "        random.choice(uppercase),\n",
        "        random.choice(digits),\n",
        "        random.choice(special_chars),\n",
        "    ]\n",
        "\n",
        "    # Fill the rest of the password length with random choices from all character sets\n",
        "    all_chars = lowercase + uppercase + digits + special_chars\n",
        "    password += random.sample(all_chars, PLE - 4)\n",
        "\n",
        "    # Shuffle the resulting password list to ensure randomness\n",
        "    random.shuffle(password)\n",
        "\n",
        "    # Join the list into a string and print the password\n",
        "    PA = \"\".join(password)\n",
        "    print(f\"Generated password: {PA}\")\n"
      ],
      "metadata": {
        "colab": {
          "base_uri": "https://localhost:8080/"
        },
        "id": "LWYzdlVVEnOr",
        "outputId": "4e180dfa-e77f-4f21-b45d-468be84f1583"
      },
      "execution_count": 5,
      "outputs": [
        {
          "output_type": "stream",
          "name": "stdout",
          "text": [
            "Enter the length of password (minimum 6): 12\n",
            "Generated password: z#xI2kBNuOnT\n"
          ]
        }
      ]
    },
    {
      "cell_type": "markdown",
      "source": [
        "# Numeric PIN Code Generator\n",
        "This variation generates a simple numeric PIN code:"
      ],
      "metadata": {
        "id": "LJoLyBEsFnQ-"
      }
    },
    {
      "cell_type": "code",
      "source": [
        "import random\n",
        "\n",
        "# Get the desired length of the PIN code from the user\n",
        "PIN_length = int(input(\"Enter the length of the PIN code (e.g., 4 for a standard PIN): \"))\n",
        "\n",
        "# Define the character set for the PIN (digits only)\n",
        "digits = \"0123456789\"\n",
        "\n",
        "# Generate a random PIN code of the specified length\n",
        "PIN_code = \"\".join(random.sample(digits, PIN_length))\n",
        "\n",
        "# Print the generated PIN code\n",
        "print(f\"Generated PIN code: {PIN_code}\")\n"
      ],
      "metadata": {
        "colab": {
          "base_uri": "https://localhost:8080/"
        },
        "id": "dAYsB0iwFgQR",
        "outputId": "aa47e616-8e52-466b-fff7-93706588fbd6"
      },
      "execution_count": 7,
      "outputs": [
        {
          "output_type": "stream",
          "name": "stdout",
          "text": [
            "Enter the length of the PIN code (e.g., 4 for a standard PIN): 4\n",
            "Generated PIN code: 1298\n"
          ]
        }
      ]
    },
    {
      "cell_type": "markdown",
      "source": [
        "# API Key Generator\n",
        "In this example, we generate a secure API key using uppercase, lowercase letters, and numbers:"
      ],
      "metadata": {
        "id": "jpQHk3DTF2EX"
      }
    },
    {
      "cell_type": "code",
      "source": [
        "import random\n",
        "import string\n",
        "\n",
        "# Set the length of the API key\n",
        "API_key_length = 32  # Standard API keys are often 32 characters long\n",
        "\n",
        "# Define the character set for API key (alphanumeric)\n",
        "alphanumeric_chars = string.ascii_letters + string.digits\n",
        "\n",
        "# Generate the API key\n",
        "API_key = \"\".join(random.sample(alphanumeric_chars, API_key_length))\n",
        "\n",
        "# Print the generated API key\n",
        "print(f\"Generated API Key: {API_key}\")\n"
      ],
      "metadata": {
        "colab": {
          "base_uri": "https://localhost:8080/"
        },
        "id": "sQLc3LlvFrG6",
        "outputId": "4fcde922-c148-46df-b142-530f39c652fd"
      },
      "execution_count": 8,
      "outputs": [
        {
          "output_type": "stream",
          "name": "stdout",
          "text": [
            "Generated API Key: TWdijEJc4ZKqSw376FU02LrCBXvskmRo\n"
          ]
        }
      ]
    },
    {
      "cell_type": "markdown",
      "source": [
        "#  Password Generator with User-Specified Character Set\n",
        "In this example, the user can define their own custom character set for the password:"
      ],
      "metadata": {
        "id": "_k15Um4OF-ly"
      }
    },
    {
      "cell_type": "code",
      "source": [
        "import random\n",
        "\n",
        "# Ask the user to provide their custom character set\n",
        "custom_charset = input(\"Enter the custom character set to use for the password: \")\n",
        "\n",
        "# Get the password length from the user\n",
        "PLE = int(input(\"Enter the length of password: \"))\n",
        "\n",
        "# Generate a password using the custom character set\n",
        "PA = \"\".join(random.sample(custom_charset, PLE))\n",
        "\n",
        "# Print the generated password\n",
        "print(f\"Generated password: {PA}\")\n"
      ],
      "metadata": {
        "colab": {
          "base_uri": "https://localhost:8080/"
        },
        "id": "ZvKki3D-F5jm",
        "outputId": "3a40d027-6069-4d62-956b-ec4c2054b93d"
      },
      "execution_count": 9,
      "outputs": [
        {
          "output_type": "stream",
          "name": "stdout",
          "text": [
            "Enter the custom character set to use for the password: gnerpleasewor\n",
            "Enter the length of password: 8\n",
            "Generated password: rlparnew\n"
          ]
        }
      ]
    },
    {
      "cell_type": "markdown",
      "source": [
        "# Password Reset System with Temporary Password\n",
        "Here, we generate a temporary password for use in password reset systems."
      ],
      "metadata": {
        "id": "RR6zLuHQGL67"
      }
    },
    {
      "cell_type": "code",
      "source": [
        "import random\n",
        "import string\n",
        "\n",
        "# Function to generate a temporary password\n",
        "def generate_temp_password(length=8):\n",
        "    chars = string.ascii_letters + string.digits + \"!@#$%^&*()\"\n",
        "    return \"\".join(random.choice(chars) for _ in range(length))\n",
        "\n",
        "# Generate a temporary password (e.g., 8 characters long)\n",
        "temp_password = generate_temp_password()\n",
        "\n",
        "# Print the temporary password\n",
        "print(f\"Temporary password: {temp_password}\")\n"
      ],
      "metadata": {
        "colab": {
          "base_uri": "https://localhost:8080/"
        },
        "id": "jAzD7GsZGBnD",
        "outputId": "2709cade-a730-4f32-d579-8efa9ab08466"
      },
      "execution_count": 10,
      "outputs": [
        {
          "output_type": "stream",
          "name": "stdout",
          "text": [
            "Temporary password: AE865)B8\n"
          ]
        }
      ]
    },
    {
      "cell_type": "code",
      "source": [],
      "metadata": {
        "id": "D0LaJNFiGlIw"
      },
      "execution_count": null,
      "outputs": []
    }
  ]
}