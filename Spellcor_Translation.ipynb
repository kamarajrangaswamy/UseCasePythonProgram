{
  "nbformat": 4,
  "nbformat_minor": 0,
  "metadata": {
    "colab": {
      "provenance": []
    },
    "kernelspec": {
      "name": "python3",
      "display_name": "Python 3"
    },
    "language_info": {
      "name": "python"
    }
  },
  "cells": [
    {
      "cell_type": "markdown",
      "source": [
        "# How to Correct the Spelling with Python Prepared By Kamaraj Rangaswamy\n",
        "\n",
        "Correcting spelling mistakes is an integral part of writing in the modern world, whether it is part of texting a phone, sending an email, writing large documents or searching for information on the web."
      ],
      "metadata": {
        "id": "_2tgIHQTo7ik"
      }
    },
    {
      "cell_type": "code",
      "source": [
        "from textblob import TextBlob\n",
        "words = [\"Data Scence\", \"Mahine Learnin\"]\n",
        "corrected_words = []\n",
        "for i in words:\n",
        "    corrected_words.append(TextBlob(i))\n",
        "print(\"Wrong words :\", words)\n",
        "print(\"Corrected Words are :\")\n",
        "for i in corrected_words:\n",
        "    print(i.correct(), end=\" \")"
      ],
      "metadata": {
        "colab": {
          "base_uri": "https://localhost:8080/"
        },
        "id": "NquUSIpDo9a0",
        "outputId": "71f0b00e-5820-43c8-8f51-a70a850c1b70"
      },
      "execution_count": 8,
      "outputs": [
        {
          "output_type": "stream",
          "name": "stdout",
          "text": [
            "Wrong words : ['Data Scence', 'Mahine Learnin']\n",
            "Corrected Words are :\n",
            "Data Science Machine Learning "
          ]
        }
      ]
    },
    {
      "cell_type": "markdown",
      "source": [
        "# Sentiment Analysis Use Case\n",
        "This example takes a list of customer reviews and analyzes their sentiment (whether they are positive, negative, or neutral) using TextBlob"
      ],
      "metadata": {
        "id": "ICf2zLDKqBcD"
      }
    },
    {
      "cell_type": "code",
      "source": [
        "from textblob import TextBlob\n",
        "\n",
        "# List of user reviews\n",
        "reviews = [\n",
        "    \"I love the new features of this product!\",\n",
        "    \"The quality is terrible and the product broke within a week.\",\n",
        "    \"It's okay, but I've seen better options for the price.\",\n",
        "    \"Fantastic! Worth every penny.\",\n",
        "    \"Very disappointed with the customer service.\"\n",
        "]\n",
        "\n",
        "# Analyze the sentiment of each review\n",
        "for review in reviews:\n",
        "    analysis = TextBlob(review)\n",
        "    # Get the sentiment polarity (-1: negative, 0: neutral, 1: positive)\n",
        "    sentiment = analysis.sentiment.polarity\n",
        "\n",
        "    # Print the review and its sentiment\n",
        "    print(f\"Review: {review}\")\n",
        "    if sentiment > 0:\n",
        "        print(\"Sentiment: Positive\")\n",
        "    elif sentiment < 0:\n",
        "        print(\"Sentiment: Negative\")\n",
        "    else:\n",
        "        print(\"Sentiment: Neutral\")\n",
        "    print(\"-\" * 50)\n"
      ],
      "metadata": {
        "colab": {
          "base_uri": "https://localhost:8080/"
        },
        "id": "YyK4bbw1o-Os",
        "outputId": "740cdcdd-5ed7-4cc4-edcb-1f9a1656b302"
      },
      "execution_count": 9,
      "outputs": [
        {
          "output_type": "stream",
          "name": "stdout",
          "text": [
            "Review: I love the new features of this product!\n",
            "Sentiment: Positive\n",
            "--------------------------------------------------\n",
            "Review: The quality is terrible and the product broke within a week.\n",
            "Sentiment: Negative\n",
            "--------------------------------------------------\n",
            "Review: It's okay, but I've seen better options for the price.\n",
            "Sentiment: Positive\n",
            "--------------------------------------------------\n",
            "Review: Fantastic! Worth every penny.\n",
            "Sentiment: Positive\n",
            "--------------------------------------------------\n",
            "Review: Very disappointed with the customer service.\n",
            "Sentiment: Negative\n",
            "--------------------------------------------------\n"
          ]
        }
      ]
    },
    {
      "cell_type": "markdown",
      "source": [
        "# Classifying text into predefined categories using keywords and TextBlob for basic rule-based classification\n",
        "\n"
      ],
      "metadata": {
        "id": "pKT3jR2RqPlr"
      }
    },
    {
      "cell_type": "code",
      "source": [
        "from textblob import TextBlob\n",
        "\n",
        "# List of user complaints\n",
        "complaints = [\n",
        "    \"The battery life is too short.\",\n",
        "    \"The screen is broken.\",\n",
        "    \"I love the design!\",\n",
        "    \"Shipping took too long.\"\n",
        "]\n",
        "\n",
        "# Classify complaints\n",
        "for complaint in complaints:\n",
        "    analysis = TextBlob(complaint)\n",
        "    if 'battery' in complaint.lower():\n",
        "        category = \"Battery Issue\"\n",
        "    elif 'screen' in complaint.lower():\n",
        "        category = \"Screen Issue\"\n",
        "    elif 'shipping' in complaint.lower():\n",
        "        category = \"Shipping Issue\"\n",
        "    else:\n",
        "        category = \"Other\"\n",
        "\n",
        "    print(f\"Complaint: {complaint}\")\n",
        "    print(f\"Category: {category}\")\n",
        "    print(\"-\" * 50)\n"
      ],
      "metadata": {
        "colab": {
          "base_uri": "https://localhost:8080/"
        },
        "id": "STBW8FRzqF8s",
        "outputId": "4f111bc9-8414-4321-fb4e-3b5b15e61d22"
      },
      "execution_count": 14,
      "outputs": [
        {
          "output_type": "stream",
          "name": "stdout",
          "text": [
            "Complaint: The battery life is too short.\n",
            "Category: Battery Issue\n",
            "--------------------------------------------------\n",
            "Complaint: The screen is broken.\n",
            "Category: Screen Issue\n",
            "--------------------------------------------------\n",
            "Complaint: I love the design!\n",
            "Category: Other\n",
            "--------------------------------------------------\n",
            "Complaint: Shipping took too long.\n",
            "Category: Shipping Issue\n",
            "--------------------------------------------------\n"
          ]
        }
      ]
    },
    {
      "cell_type": "markdown",
      "source": [
        "# Libraries for Translation\n",
        "Using the googletrans library, which directly interfaces with Google Translate's API.\n",
        "\n",
        "Using googletrans for Translation"
      ],
      "metadata": {
        "id": "fD6duccsCRBX"
      }
    },
    {
      "cell_type": "code",
      "source": [
        "pip install googletrans==4.0.0-rc1"
      ],
      "metadata": {
        "colab": {
          "base_uri": "https://localhost:8080/"
        },
        "id": "ryGJNg-DBQT8",
        "outputId": "3d74988b-e272-4d20-bbc4-19597ab7fdaa"
      },
      "execution_count": 9,
      "outputs": [
        {
          "output_type": "stream",
          "name": "stdout",
          "text": [
            "Collecting googletrans==4.0.0-rc1\n",
            "  Downloading googletrans-4.0.0rc1.tar.gz (20 kB)\n",
            "  Preparing metadata (setup.py) ... \u001b[?25l\u001b[?25hdone\n",
            "Collecting httpx==0.13.3 (from googletrans==4.0.0-rc1)\n",
            "  Downloading httpx-0.13.3-py3-none-any.whl.metadata (25 kB)\n",
            "Requirement already satisfied: certifi in /usr/local/lib/python3.10/dist-packages (from httpx==0.13.3->googletrans==4.0.0-rc1) (2024.8.30)\n",
            "Collecting hstspreload (from httpx==0.13.3->googletrans==4.0.0-rc1)\n",
            "  Downloading hstspreload-2024.10.1-py3-none-any.whl.metadata (2.1 kB)\n",
            "Requirement already satisfied: sniffio in /usr/local/lib/python3.10/dist-packages (from httpx==0.13.3->googletrans==4.0.0-rc1) (1.3.1)\n",
            "Collecting chardet==3.* (from httpx==0.13.3->googletrans==4.0.0-rc1)\n",
            "  Downloading chardet-3.0.4-py2.py3-none-any.whl.metadata (3.2 kB)\n",
            "Collecting idna==2.* (from httpx==0.13.3->googletrans==4.0.0-rc1)\n",
            "  Downloading idna-2.10-py2.py3-none-any.whl.metadata (9.1 kB)\n",
            "Collecting rfc3986<2,>=1.3 (from httpx==0.13.3->googletrans==4.0.0-rc1)\n",
            "  Downloading rfc3986-1.5.0-py2.py3-none-any.whl.metadata (6.5 kB)\n",
            "Collecting httpcore==0.9.* (from httpx==0.13.3->googletrans==4.0.0-rc1)\n",
            "  Downloading httpcore-0.9.1-py3-none-any.whl.metadata (4.6 kB)\n",
            "Collecting h11<0.10,>=0.8 (from httpcore==0.9.*->httpx==0.13.3->googletrans==4.0.0-rc1)\n",
            "  Downloading h11-0.9.0-py2.py3-none-any.whl.metadata (8.1 kB)\n",
            "Collecting h2==3.* (from httpcore==0.9.*->httpx==0.13.3->googletrans==4.0.0-rc1)\n",
            "  Downloading h2-3.2.0-py2.py3-none-any.whl.metadata (32 kB)\n",
            "Collecting hyperframe<6,>=5.2.0 (from h2==3.*->httpcore==0.9.*->httpx==0.13.3->googletrans==4.0.0-rc1)\n",
            "  Downloading hyperframe-5.2.0-py2.py3-none-any.whl.metadata (7.2 kB)\n",
            "Collecting hpack<4,>=3.0 (from h2==3.*->httpcore==0.9.*->httpx==0.13.3->googletrans==4.0.0-rc1)\n",
            "  Downloading hpack-3.0.0-py2.py3-none-any.whl.metadata (7.0 kB)\n",
            "Downloading httpx-0.13.3-py3-none-any.whl (55 kB)\n",
            "\u001b[2K   \u001b[90m━━━━━━━━━━━━━━━━━━━━━━━━━━━━━━━━━━━━━━━━\u001b[0m \u001b[32m55.1/55.1 kB\u001b[0m \u001b[31m3.3 MB/s\u001b[0m eta \u001b[36m0:00:00\u001b[0m\n",
            "\u001b[?25hDownloading chardet-3.0.4-py2.py3-none-any.whl (133 kB)\n",
            "\u001b[2K   \u001b[90m━━━━━━━━━━━━━━━━━━━━━━━━━━━━━━━━━━━━━━━━\u001b[0m \u001b[32m133.4/133.4 kB\u001b[0m \u001b[31m7.7 MB/s\u001b[0m eta \u001b[36m0:00:00\u001b[0m\n",
            "\u001b[?25hDownloading httpcore-0.9.1-py3-none-any.whl (42 kB)\n",
            "\u001b[2K   \u001b[90m━━━━━━━━━━━━━━━━━━━━━━━━━━━━━━━━━━━━━━━━\u001b[0m \u001b[32m42.6/42.6 kB\u001b[0m \u001b[31m2.3 MB/s\u001b[0m eta \u001b[36m0:00:00\u001b[0m\n",
            "\u001b[?25hDownloading idna-2.10-py2.py3-none-any.whl (58 kB)\n",
            "\u001b[2K   \u001b[90m━━━━━━━━━━━━━━━━━━━━━━━━━━━━━━━━━━━━━━━━\u001b[0m \u001b[32m58.8/58.8 kB\u001b[0m \u001b[31m3.7 MB/s\u001b[0m eta \u001b[36m0:00:00\u001b[0m\n",
            "\u001b[?25hDownloading h2-3.2.0-py2.py3-none-any.whl (65 kB)\n",
            "\u001b[2K   \u001b[90m━━━━━━━━━━━━━━━━━━━━━━━━━━━━━━━━━━━━━━━━\u001b[0m \u001b[32m65.0/65.0 kB\u001b[0m \u001b[31m4.3 MB/s\u001b[0m eta \u001b[36m0:00:00\u001b[0m\n",
            "\u001b[?25hDownloading rfc3986-1.5.0-py2.py3-none-any.whl (31 kB)\n",
            "Downloading hstspreload-2024.10.1-py3-none-any.whl (1.2 MB)\n",
            "\u001b[2K   \u001b[90m━━━━━━━━━━━━━━━━━━━━━━━━━━━━━━━━━━━━━━━━\u001b[0m \u001b[32m1.2/1.2 MB\u001b[0m \u001b[31m21.9 MB/s\u001b[0m eta \u001b[36m0:00:00\u001b[0m\n",
            "\u001b[?25hDownloading h11-0.9.0-py2.py3-none-any.whl (53 kB)\n",
            "\u001b[2K   \u001b[90m━━━━━━━━━━━━━━━━━━━━━━━━━━━━━━━━━━━━━━━━\u001b[0m \u001b[32m53.6/53.6 kB\u001b[0m \u001b[31m3.6 MB/s\u001b[0m eta \u001b[36m0:00:00\u001b[0m\n",
            "\u001b[?25hDownloading hpack-3.0.0-py2.py3-none-any.whl (38 kB)\n",
            "Downloading hyperframe-5.2.0-py2.py3-none-any.whl (12 kB)\n",
            "Building wheels for collected packages: googletrans\n",
            "  Building wheel for googletrans (setup.py) ... \u001b[?25l\u001b[?25hdone\n",
            "  Created wheel for googletrans: filename=googletrans-4.0.0rc1-py3-none-any.whl size=17397 sha256=a1e7c1d1f20f95e7b0b7139296abe24052a3498704174a7b0215a6de066fe4ec\n",
            "  Stored in directory: /root/.cache/pip/wheels/c0/59/9f/7372f0cf70160fe61b528532e1a7c8498c4becd6bcffb022de\n",
            "Successfully built googletrans\n",
            "Installing collected packages: rfc3986, hyperframe, hpack, h11, chardet, idna, hstspreload, h2, httpcore, httpx, googletrans\n",
            "  Attempting uninstall: chardet\n",
            "    Found existing installation: chardet 5.2.0\n",
            "    Uninstalling chardet-5.2.0:\n",
            "      Successfully uninstalled chardet-5.2.0\n",
            "  Attempting uninstall: idna\n",
            "    Found existing installation: idna 3.10\n",
            "    Uninstalling idna-3.10:\n",
            "      Successfully uninstalled idna-3.10\n",
            "Successfully installed chardet-3.0.4 googletrans-4.0.0rc1 h11-0.9.0 h2-3.2.0 hpack-3.0.0 hstspreload-2024.10.1 httpcore-0.9.1 httpx-0.13.3 hyperframe-5.2.0 idna-2.10 rfc3986-1.5.0\n"
          ]
        }
      ]
    },
    {
      "cell_type": "markdown",
      "source": [
        "Advantages of Using googletrans:\n",
        "Direct Access: It interfaces directly with Google Translate's API.\n",
        "Active Community: Regular updates and community support.\n",
        "Flexibility: Supports a wide range of languages and features."
      ],
      "metadata": {
        "id": "NEefsBbMC_QD"
      }
    },
    {
      "cell_type": "code",
      "source": [
        "from googletrans import Translator\n",
        "\n",
        "# Initialize the translator\n",
        "translator = Translator()\n",
        "\n",
        "# List of sentences to translate\n",
        "sentences = [\n",
        "    \"Good morning!\",\n",
        "    \"Welcome to our platform.\",\n",
        "    \"How can I assist you today?\"\n",
        "]\n",
        "\n",
        "# List to hold translated sentences\n",
        "translated_texts = []\n",
        "\n",
        "# Translating sentences to Tamil\n",
        "for sentence in sentences:\n",
        "    try:\n",
        "        translation = translator.translate(sentence, dest='ta')  # 'ta' for Tamil\n",
        "        translated_texts.append(translation.text)\n",
        "    except Exception as e:\n",
        "        translated_texts.append(f\"Error translating: {sentence} - {e}\")\n",
        "\n",
        "# Print original and translated sentences\n",
        "print(\"Original Sentences:\")\n",
        "for sentence in sentences:\n",
        "    print(f\"- {sentence}\")\n",
        "\n",
        "print(\"\\nTranslated Sentences (Tamil):\")\n",
        "for translated in translated_texts:\n",
        "    print(f\"- {translated}\")\n"
      ],
      "metadata": {
        "colab": {
          "base_uri": "https://localhost:8080/"
        },
        "id": "BIJrlgOYq5_g",
        "outputId": "47056d83-ff3c-461a-d158-9cbe0f959411"
      },
      "execution_count": 12,
      "outputs": [
        {
          "output_type": "stream",
          "name": "stdout",
          "text": [
            "Original Sentences:\n",
            "- Good morning!\n",
            "- Welcome to our platform.\n",
            "- How can I assist you today?\n",
            "\n",
            "Translated Sentences (Tamil):\n",
            "- காலை வணக்கம்!\n",
            "- எங்கள் தளத்திற்கு வருக.\n",
            "- இன்று நான் உங்களுக்கு எவ்வாறு உதவ முடியும்?\n"
          ]
        }
      ]
    },
    {
      "cell_type": "code",
      "source": [
        "from textblob import TextBlob\n",
        "\n",
        "# Get user input\n",
        "user_input = input(\"Enter the sentence you want to translate to Tamil: \").strip()\n",
        "\n",
        "# Create TextBlob object\n",
        "blob = TextBlob(user_input)\n",
        "\n",
        "# Translate to Tamil\n",
        "try:\n",
        "    translated_blob = blob.translate(to=\"ta\")\n",
        "    print(f\"Translated Text: {translated_blob}\")\n",
        "except Exception as e:\n",
        "    print(f\"Error translating: {user_input} - {e}\")\n"
      ],
      "metadata": {
        "colab": {
          "base_uri": "https://localhost:8080/"
        },
        "id": "HSSdsf83AFzs",
        "outputId": "7bf325ce-7990-4cb5-ab5e-134f3d852a3d"
      },
      "execution_count": 13,
      "outputs": [
        {
          "output_type": "stream",
          "name": "stdout",
          "text": [
            "Enter the sentence you want to translate to Tamil: I would like to introduce myself\n",
            "Error translating: I would like to introduce myself - 'list' object has no attribute 'strip'\n"
          ]
        }
      ]
    },
    {
      "cell_type": "markdown",
      "source": [
        "# Libraries for Translation\n",
        "Using the googletrans library, which directly interfaces with Google Translate's API."
      ],
      "metadata": {
        "id": "wI80LIXiE_1l"
      }
    },
    {
      "cell_type": "code",
      "source": [
        "pip install deep-translator\n"
      ],
      "metadata": {
        "colab": {
          "base_uri": "https://localhost:8080/"
        },
        "id": "SRavZOrCECfa",
        "outputId": "0e419e4e-4aa9-478f-daa2-cd1642f76a50"
      },
      "execution_count": 14,
      "outputs": [
        {
          "output_type": "stream",
          "name": "stdout",
          "text": [
            "Collecting deep-translator\n",
            "  Downloading deep_translator-1.11.4-py3-none-any.whl.metadata (30 kB)\n",
            "Requirement already satisfied: beautifulsoup4<5.0.0,>=4.9.1 in /usr/local/lib/python3.10/dist-packages (from deep-translator) (4.12.3)\n",
            "Requirement already satisfied: requests<3.0.0,>=2.23.0 in /usr/local/lib/python3.10/dist-packages (from deep-translator) (2.32.3)\n",
            "Requirement already satisfied: soupsieve>1.2 in /usr/local/lib/python3.10/dist-packages (from beautifulsoup4<5.0.0,>=4.9.1->deep-translator) (2.6)\n",
            "Requirement already satisfied: charset-normalizer<4,>=2 in /usr/local/lib/python3.10/dist-packages (from requests<3.0.0,>=2.23.0->deep-translator) (3.3.2)\n",
            "Requirement already satisfied: idna<4,>=2.5 in /usr/local/lib/python3.10/dist-packages (from requests<3.0.0,>=2.23.0->deep-translator) (2.10)\n",
            "Requirement already satisfied: urllib3<3,>=1.21.1 in /usr/local/lib/python3.10/dist-packages (from requests<3.0.0,>=2.23.0->deep-translator) (2.2.3)\n",
            "Requirement already satisfied: certifi>=2017.4.17 in /usr/local/lib/python3.10/dist-packages (from requests<3.0.0,>=2.23.0->deep-translator) (2024.8.30)\n",
            "Downloading deep_translator-1.11.4-py3-none-any.whl (42 kB)\n",
            "\u001b[2K   \u001b[90m━━━━━━━━━━━━━━━━━━━━━━━━━━━━━━━━━━━━━━━━\u001b[0m \u001b[32m42.3/42.3 kB\u001b[0m \u001b[31m1.7 MB/s\u001b[0m eta \u001b[36m0:00:00\u001b[0m\n",
            "\u001b[?25hInstalling collected packages: deep-translator\n",
            "Successfully installed deep-translator-1.11.4\n"
          ]
        }
      ]
    },
    {
      "cell_type": "code",
      "source": [
        "from deep_translator import GoogleTranslator\n",
        "\n",
        "# Get user input\n",
        "user_input = input(\"Enter the sentence you want to translate to Tamil: \").strip()\n",
        "\n",
        "# Translate to Tamil\n",
        "try:\n",
        "    translated_text = GoogleTranslator(source='auto', target='ta').translate(user_input)\n",
        "    print(f\"Translated Text: {translated_text}\")\n",
        "except Exception as e:\n",
        "    print(f\"Error translating: {user_input} - {e}\")\n"
      ],
      "metadata": {
        "colab": {
          "base_uri": "https://localhost:8080/"
        },
        "id": "QitFPDD_E28i",
        "outputId": "78bbb8b0-accb-4a33-aaeb-66c2da23c3e5"
      },
      "execution_count": 15,
      "outputs": [
        {
          "output_type": "stream",
          "name": "stdout",
          "text": [
            "Enter the sentence you want to translate to Tamil: I would like to introduce myself\n",
            "Translated Text: நான் என்னை அறிமுகப்படுத்த விரும்புகிறேன்\n"
          ]
        }
      ]
    },
    {
      "cell_type": "code",
      "source": [],
      "metadata": {
        "id": "MSs3vjg1E6Ca"
      },
      "execution_count": null,
      "outputs": []
    }
  ]
}